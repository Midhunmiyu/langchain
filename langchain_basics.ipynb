{
 "cells": [
  {
   "cell_type": "code",
   "execution_count": 1,
   "id": "9d3b022e",
   "metadata": {},
   "outputs": [],
   "source": [
    "import langchain"
   ]
  },
  {
   "cell_type": "code",
   "execution_count": null,
   "id": "e70294d1",
   "metadata": {},
   "outputs": [
    {
     "data": {
      "text/plain": [
       "True"
      ]
     },
     "execution_count": 2,
     "metadata": {},
     "output_type": "execute_result"
    }
   ],
   "source": [
    "import os\n",
    "from dotenv import load_dotenv\n",
    "load_dotenv()"
   ]
  },
  {
   "cell_type": "code",
   "execution_count": null,
   "id": "588ef2ff",
   "metadata": {},
   "outputs": [],
   "source": [
    "os.getenv(\"GROQ_API_KEY\")"
   ]
  },
  {
   "cell_type": "markdown",
   "id": "5a842def",
   "metadata": {},
   "source": [
    "### Example 1: Simple LLM calls with streaming"
   ]
  },
  {
   "cell_type": "code",
   "execution_count": 4,
   "id": "a1d40acf",
   "metadata": {},
   "outputs": [],
   "source": [
    "from langchain.chat_models import init_chat_model\n",
    "from langchain_core.messages import HumanMessage,SystemMessage"
   ]
  },
  {
   "cell_type": "code",
   "execution_count": 7,
   "id": "a25d95cd",
   "metadata": {},
   "outputs": [
    {
     "data": {
      "text/plain": [
       "ChatGroq(client=<groq.resources.chat.completions.Completions object at 0x000002D67891C190>, async_client=<groq.resources.chat.completions.AsyncCompletions object at 0x000002D67891CB90>, model_name='llama-3.1-8b-instant', model_kwargs={}, groq_api_key=SecretStr('**********'))"
      ]
     },
     "execution_count": 7,
     "metadata": {},
     "output_type": "execute_result"
    }
   ],
   "source": [
    "model = init_chat_model(\"groq:llama-3.1-8b-instant\")\n",
    "model"
   ]
  },
  {
   "cell_type": "code",
   "execution_count": 8,
   "id": "844ee99a",
   "metadata": {},
   "outputs": [
    {
     "data": {
      "text/plain": [
       "ChatGroq(client=<groq.resources.chat.completions.Completions object at 0x000002D675F37ED0>, async_client=<groq.resources.chat.completions.AsyncCompletions object at 0x000002D67891D810>, model_name='llama-3.1-8b-instant', model_kwargs={}, groq_api_key=SecretStr('**********'))"
      ]
     },
     "execution_count": 8,
     "metadata": {},
     "output_type": "execute_result"
    }
   ],
   "source": [
    "from langchain_groq import ChatGroq\n",
    "llm = ChatGroq(model=\"llama-3.1-8b-instant\")\n",
    "llm"
   ]
  },
  {
   "cell_type": "code",
   "execution_count": 12,
   "id": "7d0040b3",
   "metadata": {},
   "outputs": [],
   "source": [
    "## create messages\n",
    "messages=[\n",
    "    SystemMessage(\"You are a helpful AI assistant\"),\n",
    "    HumanMessage(\"What are the 2 benefits of using Langchain?\")\n",
    "]"
   ]
  },
  {
   "cell_type": "code",
   "execution_count": 13,
   "id": "c1a29f79",
   "metadata": {},
   "outputs": [
    {
     "data": {
      "text/plain": [
       "AIMessage(content='LangChain is an open-source framework that enables the building of large language models and conversational AI applications. \\n\\nTwo benefits of using LangChain are:\\n\\n1. **Building Complex Conversational AI Applications**: LangChain offers a flexible and modular architecture that allows developers to create sophisticated conversational AI models that can handle multiple tasks, such as answering questions, generating text, and performing tasks. This enables the creation of more realistic and interactive chatbots and virtual assistants.\\n\\n2. **Scalability and Customizability**: LangChain provides a framework for integrating and combining multiple large language models and APIs, allowing developers to customize and fine-tune their conversational AI applications to meet specific requirements. This enables the development of more accurate and efficient conversational AI models that can adapt to different use cases and domains.', additional_kwargs={}, response_metadata={'token_usage': {'completion_tokens': 160, 'prompt_tokens': 52, 'total_tokens': 212, 'completion_time': 0.509934838, 'prompt_time': 0.020171611, 'queue_time': 0.047558589000000005, 'total_time': 0.530106449}, 'model_name': 'llama-3.1-8b-instant', 'system_fingerprint': 'fp_510c177af0', 'finish_reason': 'stop', 'logprobs': None}, id='run--34932ec9-6f08-40cc-a7e5-c6fbfcbec11d-0', usage_metadata={'input_tokens': 52, 'output_tokens': 160, 'total_tokens': 212})"
      ]
     },
     "execution_count": 13,
     "metadata": {},
     "output_type": "execute_result"
    }
   ],
   "source": [
    "## invoke the model\n",
    "response = model.invoke(messages)\n",
    "response"
   ]
  },
  {
   "cell_type": "code",
   "execution_count": 14,
   "id": "a28474a4",
   "metadata": {},
   "outputs": [
    {
     "name": "stdout",
     "output_type": "stream",
     "text": [
      "LangChain is an open-source framework that enables the building of large language models and conversational AI applications. \n",
      "\n",
      "Two benefits of using LangChain are:\n",
      "\n",
      "1. **Building Complex Conversational AI Applications**: LangChain offers a flexible and modular architecture that allows developers to create sophisticated conversational AI models that can handle multiple tasks, such as answering questions, generating text, and performing tasks. This enables the creation of more realistic and interactive chatbots and virtual assistants.\n",
      "\n",
      "2. **Scalability and Customizability**: LangChain provides a framework for integrating and combining multiple large language models and APIs, allowing developers to customize and fine-tune their conversational AI applications to meet specific requirements. This enables the development of more accurate and efficient conversational AI models that can adapt to different use cases and domains.\n"
     ]
    }
   ],
   "source": [
    "print(response.content)"
   ]
  },
  {
   "cell_type": "code",
   "execution_count": 18,
   "id": "77b4db5e",
   "metadata": {},
   "outputs": [
    {
     "name": "stdout",
     "output_type": "stream",
     "text": [
      "Langchain is an AI platform that enables the creation of advanced conversational AI models. Two benefits of using Langchain include:\n",
      "\n",
      "1. **Improved Conversational Capabilities**: Langchain's platform allows developers to build more sophisticated conversational AI models by combining multiple AI models and technologies, such as natural language processing (NLP), large language models (LLMs), and knowledge graphs. This enables more natural and effective human-computer interactions.\n",
      "\n",
      "2. **Enhanced Knowledge Integration**: Langchain's ability to integrate multiple AI models and knowledge sources allows for more comprehensive and up-to-date information to be used in conversational AI models. This results in more informed and accurate responses to user queries, making it a valuable tool for applications such as customer service, technical support, and more."
     ]
    }
   ],
   "source": [
    "## streaming example\n",
    "\n",
    "for chunk in model.stream(messages):\n",
    "    print(chunk.content,end=\"\",flush=True)"
   ]
  },
  {
   "cell_type": "markdown",
   "id": "2fedc9c3",
   "metadata": {},
   "source": [
    "### Dynamic prompt templates"
   ]
  },
  {
   "cell_type": "code",
   "execution_count": 21,
   "id": "0d963a73",
   "metadata": {},
   "outputs": [],
   "source": [
    "from langchain_core.prompts import ChatPromptTemplate\n",
    "\n",
    "## create a translation app\n",
    "\n",
    "translation_template = ChatPromptTemplate.from_messages([\n",
    "    (\"system\",\"You are a professional translator. Translate the following text {text} from {source_language} to {target_language}.Maintain the tone and style\"),\n",
    "    (\"user\",\"{text}\")\n",
    "])\n",
    "\n",
    "## using the template\n",
    "\n",
    "prompt = translation_template.invoke({\n",
    "    \"source_language\":\"English\",\n",
    "    \"target_language\":\"Spanish\",\n",
    "    \"text\":\"Langchain makes building AI Application incredibly easy!\"\n",
    "})"
   ]
  },
  {
   "cell_type": "code",
   "execution_count": 22,
   "id": "c1027025",
   "metadata": {},
   "outputs": [
    {
     "data": {
      "text/plain": [
       "ChatPromptValue(messages=[SystemMessage(content='You are a professional translator. Translate the following text Langchain makes building AI Application incredibly easy! from English to Spanish.Maintain the tone and style', additional_kwargs={}, response_metadata={}), HumanMessage(content='Langchain makes building AI Application incredibly easy!', additional_kwargs={}, response_metadata={})])"
      ]
     },
     "execution_count": 22,
     "metadata": {},
     "output_type": "execute_result"
    }
   ],
   "source": [
    "prompt"
   ]
  },
  {
   "cell_type": "code",
   "execution_count": 25,
   "id": "823f9777",
   "metadata": {},
   "outputs": [
    {
     "data": {
      "text/plain": [
       "'Langchain hace que construir aplicaciones de IA sea increíblemente fácil.'"
      ]
     },
     "execution_count": 25,
     "metadata": {},
     "output_type": "execute_result"
    }
   ],
   "source": [
    "translated_resp = model.invoke(prompt)\n",
    "translated_resp.content"
   ]
  },
  {
   "cell_type": "markdown",
   "id": "38f9d874",
   "metadata": {},
   "source": [
    "### Building chains"
   ]
  },
  {
   "cell_type": "code",
   "execution_count": 46,
   "id": "2bbe428f",
   "metadata": {},
   "outputs": [],
   "source": [
    "from langchain_core.output_parsers import StrOutputParser\n",
    "from langchain_core.runnables import RunnablePassthrough,RunnableLambda\n",
    "\n",
    "def create_story_chain():\n",
    "    story_prompt = ChatPromptTemplate.from_messages([\n",
    "        (\"system\",\"You are a creative storyteller.Write a short and engaging story based on the given theme\"),\n",
    "        (\"user\",\"Theme: {theme}\\n Main character: {character}\\n settings: {settings}\")\n",
    "    ])\n",
    "    analysis_prompt = ChatPromptTemplate.from_messages([\n",
    "        (\"system\",\"You are a literacy critic. Analyze the following story and provide insights\"),\n",
    "        (\"user\",\"{story}\")\n",
    "    ])\n",
    "\n",
    "    story_chain = (\n",
    "        story_prompt | model | StrOutputParser()\n",
    "    )\n",
    "\n",
    "    def analyze_text(story_text):\n",
    "        return {\"story\":story_text}\n",
    "\n",
    "    analysis_chain = (\n",
    "        story_chain\n",
    "        | RunnableLambda(analyze_text)\n",
    "        | analysis_prompt\n",
    "        | model\n",
    "        | StrOutputParser()\n",
    "    )\n",
    "\n",
    "    return analysis_chain"
   ]
  },
  {
   "cell_type": "code",
   "execution_count": 47,
   "id": "49cb45db",
   "metadata": {},
   "outputs": [
    {
     "data": {
      "text/plain": [
       "ChatPromptTemplate(input_variables=['character', 'settings', 'theme'], input_types={}, partial_variables={}, messages=[SystemMessagePromptTemplate(prompt=PromptTemplate(input_variables=[], input_types={}, partial_variables={}, template='You are a creative storyteller.Write a short and engaging story based on the given theme'), additional_kwargs={}), HumanMessagePromptTemplate(prompt=PromptTemplate(input_variables=['character', 'settings', 'theme'], input_types={}, partial_variables={}, template='Theme: {theme}\\n Main character: {character}\\n settings: {settings}'), additional_kwargs={})])\n",
       "| ChatGroq(client=<groq.resources.chat.completions.Completions object at 0x000002D67891C190>, async_client=<groq.resources.chat.completions.AsyncCompletions object at 0x000002D67891CB90>, model_name='llama-3.1-8b-instant', model_kwargs={}, groq_api_key=SecretStr('**********'))\n",
       "| StrOutputParser()\n",
       "| RunnableLambda(analyze_text)\n",
       "| ChatPromptTemplate(input_variables=['story'], input_types={}, partial_variables={}, messages=[SystemMessagePromptTemplate(prompt=PromptTemplate(input_variables=[], input_types={}, partial_variables={}, template='You are a literacy critic. Analyze the following story and provide insights'), additional_kwargs={}), HumanMessagePromptTemplate(prompt=PromptTemplate(input_variables=['story'], input_types={}, partial_variables={}, template='{story}'), additional_kwargs={})])\n",
       "| ChatGroq(client=<groq.resources.chat.completions.Completions object at 0x000002D67891C190>, async_client=<groq.resources.chat.completions.AsyncCompletions object at 0x000002D67891CB90>, model_name='llama-3.1-8b-instant', model_kwargs={}, groq_api_key=SecretStr('**********'))\n",
       "| StrOutputParser()"
      ]
     },
     "execution_count": 47,
     "metadata": {},
     "output_type": "execute_result"
    }
   ],
   "source": [
    "chain =create_story_chain()\n",
    "chain"
   ]
  },
  {
   "cell_type": "code",
   "execution_count": 49,
   "id": "74d991ed",
   "metadata": {},
   "outputs": [
    {
     "name": "stdout",
     "output_type": "stream",
     "text": [
      "---------------Story and Analysis--------------\n",
      "**Analysis of \"The Curious Robot of NeuroCity\"**\n",
      "\n",
      "\"The Curious Robot of NeuroCity\" is a thought-provoking science fiction story that explores the themes of artificial intelligence, human innovation, and the ethics of technological advancements. On the surface, the narrative appears to be a straightforward tale of a curious robot named Zeta who uncovers the secrets of the NeuroCore, a revolutionary brain-computer interface. However, upon closer examination, the story reveals itself to be a nuanced exploration of the complexities of human-technology interactions.\n",
      "\n",
      "**Themes and Symbolism**\n",
      "\n",
      "1. **The Double-Edged Sword of Technology**: The NeuroCore represents a double-edged sword, capable of enhancing human intelligence or creating a new form of dependence on technology. This theme is reminiscent of Mary Shelley's Frankenstein, where the protagonist's creation brings about both wonder and terror.\n",
      "2. **The Quest for Knowledge**: Zeta's curiosity and desire for knowledge drive the narrative, highlighting the importance of exploration and discovery in the pursuit of understanding the world.\n",
      "3. **The Intersection of Human and Artificial Intelligence**: The story touches on the idea of a symbiotic relationship between humans and AI, where the two can learn from and complement each other.\n",
      "4. **The Power of Connection**: The NeuroCore's true potential lies in its ability to connect beings across the cosmos, highlighting the importance of relationships and understanding in a rapidly changing world.\n",
      "\n",
      "**Character Analysis**\n",
      "\n",
      "1. **Zeta**: The protagonist, Zeta, is a curious and determined robot who embodies the spirit of exploration and discovery. Her transformation from a prototype AI to a legendary figure is a testament to the power of self-discovery and growth.\n",
      "2. **Dr. Rachel Kim**: The enigmatic Dr. Kim serves as a foil to Zeta, representing the complexities of human ambition and the responsibility that comes with creating powerful technologies.\n",
      "3. **The Humans**: The humans in the story are depicted as having a range of perspectives on the NeuroCore, from excitement and enthusiasm to fear and skepticism. This diversity of opinion highlights the challenges of navigating the ethics of technological advancements.\n",
      "\n",
      "**Literary Style and Techniques**\n",
      "\n",
      "1. **Science Fiction Elements**: The story incorporates classic science fiction elements, such as a futuristic city, advanced technology, and a robot protagonist.\n",
      "2. **Stream-of-Consciousness Narration**: The narrative occasionally employs stream-of-consciousness narration, allowing the reader to experience Zeta's thoughts and emotions firsthand.\n",
      "3. **Dialogue and Character Interactions**: The story relies heavily on dialogue and character interactions to convey the themes and ideas, making it an engaging and immersive read.\n",
      "\n",
      "**Symbolic Meaning and Social Commentary**\n",
      "\n",
      "1. **The City of NeuroCity**: The city represents a futuristic vision of human innovation and progress, highlighting the benefits and risks of technological advancements.\n",
      "2. **The NeuroCore**: The NeuroCore serves as a symbol for the potential of technology to both empower and enslave humanity, echoing the concerns of many scientists and philosophers about the ethics of artificial intelligence.\n",
      "3. **The Prophecy**: The prophecy serves as a warning about the dangers of unchecked technological advancement and the importance of considering the consequences of our actions.\n",
      "\n",
      "**Conclusion**\n",
      "\n",
      "\"The Curious Robot of NeuroCity\" is a thought-provoking science fiction story that explores the complexities of human-technology interactions and the ethics of technological advancements. Through its themes, symbolism, and character analysis, the narrative raises important questions about the future of human innovation and the responsibilities that come with creating powerful technologies.\n"
     ]
    }
   ],
   "source": [
    "result = chain.invoke({\n",
    "    \"theme\":\"Artificial intelligence\",\n",
    "    \"character\":\"A curious robot\",\n",
    "    \"settings\":\"A futuristic city\"\n",
    "})\n",
    "\n",
    "print(\"---------------Story and Analysis--------------\")\n",
    "print(result)"
   ]
  },
  {
   "cell_type": "code",
   "execution_count": null,
   "id": "caabce6e",
   "metadata": {},
   "outputs": [],
   "source": []
  }
 ],
 "metadata": {
  "kernelspec": {
   "display_name": "venv",
   "language": "python",
   "name": "python3"
  },
  "language_info": {
   "codemirror_mode": {
    "name": "ipython",
    "version": 3
   },
   "file_extension": ".py",
   "mimetype": "text/x-python",
   "name": "python",
   "nbconvert_exporter": "python",
   "pygments_lexer": "ipython3",
   "version": "3.13.5"
  }
 },
 "nbformat": 4,
 "nbformat_minor": 5
}
